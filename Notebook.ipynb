{
 "cells": [
  {
   "cell_type": "code",
   "execution_count": 6,
   "metadata": {},
   "outputs": [],
   "source": [
    "arrDesktop = [\"WKSDEMO000003\",\"WKSDEMO000004\"]"
   ]
  },
  {
   "cell_type": "code",
   "execution_count": null,
   "metadata": {},
   "outputs": [
    {
     "name": "stdout",
     "output_type": "stream",
     "text": [
      "{\"job_id\": \"d384fdff-9297-459d-a114-6d94b8f57b3c\"}\n",
      "{\"job_id\": \"70bd01d1-7267-4b23-a5b8-4cbffbcee1fd\"}\n"
     ]
    }
   ],
   "source": [
    "# coding: utf-8\n",
    "\n",
    "import os\n",
    "\n",
    "from dotenv import load_dotenv\n",
    "from huaweicloudsdkcore.auth.credentials import BasicCredentials\n",
    "from huaweicloudsdkworkspace.v2.region.workspace_region import WorkspaceRegion\n",
    "from huaweicloudsdkcore.exceptions import exceptions\n",
    "from huaweicloudsdkworkspace.v2 import *\n",
    "\n",
    "if __name__ == \"__main__\":\n",
    "    # The AK and SK used for authentication are hard-coded or stored in plaintext, which has great security risks. It is recommended that the AK and SK be stored in ciphertext in configuration files or environment variables and decrypted during use to ensure security.\n",
    "    # In this example, AK and SK are stored in environment variables for authentication. Before running this example, set environment variables CLOUD_SDK_AK and CLOUD_SDK_SK in the local environment\n",
    "    load_dotenv()\n",
    "    ak = os.getenv(\"CLOUD_SDK_AK\")\n",
    "    sk = os.getenv(\"CLOUD_SDK_SK\")\n",
    "    region = os.getenv(\"CLOUD_SDK_REGION\")\n",
    "    projectId = os.getenv(\"CLOUD_SDK_PROJECTID\")\n",
    "    enterprise_project_id = os.getenv(\"CLOUD_SDK_ENTERPRISEPROJECTID\")\n",
    "    security_group_id = os.getenv(\"CLOUD_SDK_SECURITYGROUP\")\n",
    "    subnet_id = os.getenv(\"CLOUD_SDK_SUBNETID\")\n",
    "    image_id = os.getenv(\"CLOUD_SDK_IMAGEID\")\n",
    "\n",
    "    credentials = BasicCredentials(ak, sk, projectId)\n",
    "\n",
    "    client = WorkspaceClient.new_builder() \\\n",
    "        .with_credentials(credentials) \\\n",
    "        .with_region(WorkspaceRegion.value_of(region)) \\\n",
    "        .build()\n",
    "\n",
    "    try:\n",
    "        request = CreateDesktopRequest()\n",
    "        listTagsbody = [\n",
    "            Tag(\n",
    "                key=\"store-status\",\n",
    "                value=\"open\"\n",
    "            )\n",
    "        ]\n",
    "        listSecurityGroupsbody = [\n",
    "            SecurityGroupInfo(\n",
    "                id=security_group_id\n",
    "            )\n",
    "        ]\n",
    "        listNicsbody = [\n",
    "            Nic(\n",
    "                subnet_id=subnet_id\n",
    "            )\n",
    "        ]\n",
    "        rootVolumebody = Volume(\n",
    "            type=\"SAS\",\n",
    "            size=110\n",
    "        )\n",
    "\n",
    "        for desktop_name in arrDesktop:\n",
    "            request.body = CreateDesktopReq(\n",
    "                tags=listTagsbody,\n",
    "                security_groups=listSecurityGroupsbody,\n",
    "                nics=listNicsbody,\n",
    "                root_volume=rootVolumebody,\n",
    "                image_id=image_id,\n",
    "                image_type=\"private\",\n",
    "                product_id=\"workspace.x86.ultimate.xlarge2\",\n",
    "                desktop_type=\"SHARED\",\n",
    "                size=1,\n",
    "                desktop_name=desktop_name,\n",
    "                enterprise_project_id=enterprise_project_id\n",
    "            )\n",
    "            response = client.create_desktop(request)\n",
    "            print(response)\n",
    "    except exceptions.ClientRequestException as e:\n",
    "        print(e.status_code)\n",
    "        print(e.request_id)\n",
    "        print(e.error_code)\n",
    "        print(e.error_msg)"
   ]
  }
 ],
 "metadata": {
  "kernelspec": {
   "display_name": "Python 3",
   "language": "python",
   "name": "python3"
  },
  "language_info": {
   "codemirror_mode": {
    "name": "ipython",
    "version": 3
   },
   "file_extension": ".py",
   "mimetype": "text/x-python",
   "name": "python",
   "nbconvert_exporter": "python",
   "pygments_lexer": "ipython3",
   "version": "3.13.0"
  }
 },
 "nbformat": 4,
 "nbformat_minor": 2
}
